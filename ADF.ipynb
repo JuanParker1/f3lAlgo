{
 "cells": [
  {
   "cell_type": "code",
   "execution_count": 143,
   "id": "f1b12133",
   "metadata": {},
   "outputs": [],
   "source": [
    "import time\n",
    "import pandas as pd\n",
    "from ftx_client import FtxClient\n",
    "import datetime\n",
    "import matplotlib.pyplot as plt\n",
    "import requests\n",
    "import numpy as np\n",
    "from statsmodels.tsa.stattools import adfuller"
   ]
  },
  {
   "cell_type": "code",
   "execution_count": 205,
   "id": "bf83c8bd",
   "metadata": {},
   "outputs": [],
   "source": [
    "# GET /markets/{market_name}/candles?resolution={resolution}&start_time={start_time}&end_time={end_time}\n",
    "# Days is 60 seconds * 60 minutes * 24\n",
    "resolution = 60*60\n",
    "# print(resolution)\n",
    "\n",
    "start = datetime.datetime(2022,4,26).timestamp()\n",
    "# print(start)\n",
    "\n",
    "api_url = 'https://ftx.us/api'\n",
    "market_name = 'ETH/USD'\n",
    "path = f'/markets/{market_name}/candles?resolution={resolution}&start={start}'\n",
    "url = api_url + path"
   ]
  },
  {
   "cell_type": "code",
   "execution_count": 303,
   "id": "a69d56b1",
   "metadata": {
    "scrolled": true
   },
   "outputs": [
    {
     "data": {
      "text/html": [
       "<div>\n",
       "<style scoped>\n",
       "    .dataframe tbody tr th:only-of-type {\n",
       "        vertical-align: middle;\n",
       "    }\n",
       "\n",
       "    .dataframe tbody tr th {\n",
       "        vertical-align: top;\n",
       "    }\n",
       "\n",
       "    .dataframe thead th {\n",
       "        text-align: right;\n",
       "    }\n",
       "</style>\n",
       "<table border=\"1\" class=\"dataframe\">\n",
       "  <thead>\n",
       "    <tr style=\"text-align: right;\">\n",
       "      <th></th>\n",
       "      <th>close</th>\n",
       "      <th>date</th>\n",
       "    </tr>\n",
       "  </thead>\n",
       "  <tbody>\n",
       "    <tr>\n",
       "      <th>1400</th>\n",
       "      <td>2928.1</td>\n",
       "      <td>2022-04-24 01:00:00+00:00</td>\n",
       "    </tr>\n",
       "    <tr>\n",
       "      <th>1401</th>\n",
       "      <td>2932.7</td>\n",
       "      <td>2022-04-24 02:00:00+00:00</td>\n",
       "    </tr>\n",
       "    <tr>\n",
       "      <th>1402</th>\n",
       "      <td>2956.6</td>\n",
       "      <td>2022-04-24 03:00:00+00:00</td>\n",
       "    </tr>\n",
       "    <tr>\n",
       "      <th>1403</th>\n",
       "      <td>2951.2</td>\n",
       "      <td>2022-04-24 04:00:00+00:00</td>\n",
       "    </tr>\n",
       "    <tr>\n",
       "      <th>1404</th>\n",
       "      <td>2946.0</td>\n",
       "      <td>2022-04-24 05:00:00+00:00</td>\n",
       "    </tr>\n",
       "    <tr>\n",
       "      <th>...</th>\n",
       "      <td>...</td>\n",
       "      <td>...</td>\n",
       "    </tr>\n",
       "    <tr>\n",
       "      <th>1495</th>\n",
       "      <td>2895.5</td>\n",
       "      <td>2022-04-28 00:00:00+00:00</td>\n",
       "    </tr>\n",
       "    <tr>\n",
       "      <th>1496</th>\n",
       "      <td>2877.7</td>\n",
       "      <td>2022-04-28 01:00:00+00:00</td>\n",
       "    </tr>\n",
       "    <tr>\n",
       "      <th>1497</th>\n",
       "      <td>2897.0</td>\n",
       "      <td>2022-04-28 02:00:00+00:00</td>\n",
       "    </tr>\n",
       "    <tr>\n",
       "      <th>1498</th>\n",
       "      <td>2884.5</td>\n",
       "      <td>2022-04-28 03:00:00+00:00</td>\n",
       "    </tr>\n",
       "    <tr>\n",
       "      <th>1499</th>\n",
       "      <td>2883.3</td>\n",
       "      <td>2022-04-28 04:00:00+00:00</td>\n",
       "    </tr>\n",
       "  </tbody>\n",
       "</table>\n",
       "<p>100 rows × 2 columns</p>\n",
       "</div>"
      ],
      "text/plain": [
       "       close                      date\n",
       "1400  2928.1 2022-04-24 01:00:00+00:00\n",
       "1401  2932.7 2022-04-24 02:00:00+00:00\n",
       "1402  2956.6 2022-04-24 03:00:00+00:00\n",
       "1403  2951.2 2022-04-24 04:00:00+00:00\n",
       "1404  2946.0 2022-04-24 05:00:00+00:00\n",
       "...      ...                       ...\n",
       "1495  2895.5 2022-04-28 00:00:00+00:00\n",
       "1496  2877.7 2022-04-28 01:00:00+00:00\n",
       "1497  2897.0 2022-04-28 02:00:00+00:00\n",
       "1498  2884.5 2022-04-28 03:00:00+00:00\n",
       "1499  2883.3 2022-04-28 04:00:00+00:00\n",
       "\n",
       "[100 rows x 2 columns]"
      ]
     },
     "execution_count": 303,
     "metadata": {},
     "output_type": "execute_result"
    }
   ],
   "source": [
    "# Eth Market Data\n",
    "res = requests.get(url).json()\n",
    "df = pd.DataFrame(res['result'])\n",
    "df['date'] = pd.to_datetime(df['startTime'])\n",
    "df.startTime = pd.to_datetime(df.startTime)\n",
    "df.set_index('startTime')\n",
    "df = df[-100:]\n",
    "df = df.drop(columns=['time', 'volume', 'high', 'open', 'low', 'startTime'])\n",
    "df"
   ]
  },
  {
   "cell_type": "code",
   "execution_count": 304,
   "id": "a3871e39",
   "metadata": {},
   "outputs": [],
   "source": [
    "import operator\n",
    "from collections import OrderedDict"
   ]
  },
  {
   "cell_type": "code",
   "execution_count": 305,
   "id": "f347e0af",
   "metadata": {},
   "outputs": [],
   "source": [
    "def get_adf_test(series):\n",
    "    result = adfuller(series, autolag='AIC', store=True)\n",
    "    \n",
    "    # Printing the ADF values\n",
    "    print('ADF Statistics: %f' % result[0])\n",
    "    # print('p-value: %f' % result[1])\n",
    "    print(\"Mean Line: %f\" % result[2].get(\"10%\"))\n",
    "    \n",
    "    if result[0] <= result[2].get(\"10%\"):\n",
    "        print(\"Stationary Time Series!\")\n",
    "    else:\n",
    "        print(\"Non Stationary Time Series\")\n",
    "        "
   ]
  },
  {
   "cell_type": "code",
   "execution_count": 306,
   "id": "b99b9084",
   "metadata": {
    "scrolled": false
   },
   "outputs": [
    {
     "name": "stdout",
     "output_type": "stream",
     "text": [
      "ADF Statistics: -1.587499\n",
      "Mean Line: -2.582596\n",
      "Non Stationary Time Series\n"
     ]
    }
   ],
   "source": [
    "get_adf_test(df['close'])"
   ]
  },
  {
   "cell_type": "code",
   "execution_count": null,
   "id": "48a93311",
   "metadata": {},
   "outputs": [],
   "source": []
  }
 ],
 "metadata": {
  "kernelspec": {
   "display_name": "Python 3 (ipykernel)",
   "language": "python",
   "name": "python3"
  },
  "language_info": {
   "codemirror_mode": {
    "name": "ipython",
    "version": 3
   },
   "file_extension": ".py",
   "mimetype": "text/x-python",
   "name": "python",
   "nbconvert_exporter": "python",
   "pygments_lexer": "ipython3",
   "version": "3.10.4"
  }
 },
 "nbformat": 4,
 "nbformat_minor": 5
}
